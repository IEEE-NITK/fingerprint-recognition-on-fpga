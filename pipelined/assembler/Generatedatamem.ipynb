{
 "metadata": {
  "language_info": {
   "codemirror_mode": {
    "name": "ipython",
    "version": 3
   },
   "file_extension": ".py",
   "mimetype": "text/x-python",
   "name": "python",
   "nbconvert_exporter": "python",
   "pygments_lexer": "ipython3",
   "version": "3.8.5-final"
  },
  "orig_nbformat": 2,
  "kernelspec": {
   "name": "python3",
   "display_name": "Python 3.8.5 64-bit (conda)",
   "metadata": {
    "interpreter": {
     "hash": "b3ba2566441a7c06988d0923437866b63cedc61552a5af99d1f4fb67d367b25f"
    }
   }
  }
 },
 "nbformat": 4,
 "nbformat_minor": 2,
 "cells": [
  {
   "cell_type": "code",
   "execution_count": 1,
   "metadata": {},
   "outputs": [],
   "source": [
    "from bitarray import bitarray\n",
    "from encrypt_utils import encrypt"
   ]
  },
  {
   "cell_type": "code",
   "execution_count": 2,
   "metadata": {},
   "outputs": [],
   "source": [
    "memory_filename = 'data.mem'\n",
    "data_mem = open('memory_file/' + memory_filename, 'a')"
   ]
  },
  {
   "cell_type": "code",
   "execution_count": 3,
   "metadata": {
    "tags": []
   },
   "outputs": [],
   "source": [
    "for i in range(1024):\n",
    "    n=10*i\n",
    "    z=n.to_bytes(8,'big')\n",
    "    k=bitarray(z)\n",
    "    s=''\n",
    "    for i in k:\n",
    "        if(i is True):\n",
    "            s+='1'\n",
    "        else:\n",
    "            s+='0'\n",
    "    enc=encrypt(s)\n",
    "    mem_data=enc+\"\\n\"\n",
    "    data_mem.write(mem_data)\n",
    "data_mem.close()"
   ]
  }
 ]
}