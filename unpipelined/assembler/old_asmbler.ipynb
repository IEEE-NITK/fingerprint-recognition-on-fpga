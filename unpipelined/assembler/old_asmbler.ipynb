{
 "cells": [
  {
   "cell_type": "code",
   "execution_count": 23,
   "metadata": {},
   "outputs": [],
   "source": [
    "import ctypes  # An included library with Python install.   "
   ]
  },
  {
   "cell_type": "code",
   "execution_count": 24,
   "metadata": {},
   "outputs": [],
   "source": [
    "#Custom functions\n",
    "\n",
    "def Mbox(title, text, style):\n",
    "    return ctypes.windll.user32.MessageBoxW(0, text, title, style)\n",
    "    ##  Styles:\n",
    "    ##  0 : OK\n",
    "    ##  1 : OK | Cancel\n",
    "    ##  2 : Abort | Retry | Ignore\n",
    "    ##  3 : Yes | No | Cancel\n",
    "    ##  4 : Yes | No\n",
    "    ##  5 : Retry | Cancel \n",
    "    ##  6 : Cancel | Try Again | Continue\n",
    "\n",
    "def convert_bin_n(num,n):\n",
    "    a=bin(num).replace(\"0b\",\"\")\n",
    "    z=a.zfill(n)\n",
    "    return z"
   ]
  },
  {
   "cell_type": "code",
   "execution_count": 25,
   "metadata": {},
   "outputs": [],
   "source": [
    "import json\n",
    "op={}\n",
    "# Opening JSON file \n",
    "with open('op_codes.json') as json_file: \n",
    "    op = json.load(json_file)"
   ]
  },
  {
   "source": [
    "registerstring = \"r0|r1|r2|r3|r4|r5|r6|r7|r8|r9|r10|r11|r12|r13|r14|r15|r16|r17|r18|r19|r20|r21|r22|r23|r24|r25|r26|r27|r28|r29|r30|r31\"\n",
    "\n",
    "#opcodes\n",
    "opcode = {}\n",
    "\n",
    "#Memory and register access\n",
    "opcode['LD'] = '011'+'000'\n",
    "opcode['LD'] = '011'+'111'\n",
    "opcode['JMP'] = '011'+'011'\n",
    "opcode['BEQ'] = '011'+'100'\n",
    "opcode['BNE'] = '011'+'101'\n",
    "\n",
    "#arithmetic\n",
    "opcode['ADD'] = '100'+'000'\n",
    "opcode['SUB'] = '100'+'001'\n",
    "opcode['CMPEQ'] = '100'+'100'\n",
    "opcode['CMPLT'] = '100'+'101'\n",
    "opcode['CMPLE'] = '100'+'110'\n",
    "\n",
    "#logical\n",
    "opcode['AND'] = '101'+'000'\n",
    "opcode['OR'] = '101'+'001'\n",
    "opcode['XOR'] = '101'+'010'\n",
    "opcode['XNOR'] = '101'+'000'\n",
    "opcode['SHL'] = '101'+'100'\n",
    "opcode['SHR'] = '101'+'101'\n",
    "opcode['SRA'] = '101'+'110'\n",
    "\n",
    "#arithmetic with constants\n",
    "opcode['ADDC'] = '110'+'000'\n",
    "opcode['SUBC'] = '110'+'001'\n",
    "opcode['CMPEQC'] = '110'+'100'\n",
    "opcode['CMPLTC'] = '110'+'101'\n",
    "opcode['CMPLEC'] = '110'+'110'\n",
    "\n",
    "#logical with constants\n",
    "opcode['ANDC'] = '111'+'000'\n",
    "opcode['ORC'] = '111'+'001'\n",
    "opcode['XORC'] = '111'+'010'\n",
    "opcode['XNORC'] = '111'+'000'\n",
    "opcode['SHLC'] = '111'+'100'\n",
    "opcode['SHRC'] = '111'+'101'\n",
    "opcode['SRAC'] = '111'+'110'\n",
    "\n",
    "for code in opcode:\n",
    "    try:\n",
    "        print('verified ' + code)\n",
    "    except:\n",
    "        print(code)"
   ],
   "cell_type": "code",
   "metadata": {},
   "execution_count": 26,
   "outputs": [
    {
     "output_type": "stream",
     "name": "stdout",
     "text": [
      "verifiedLD\nverifiedJMP\nverifiedBEQ\nverifiedBNE\nverifiedADD\nverifiedSUB\nverifiedCMPEQ\nverifiedCMPLT\nverifiedCMPLE\nverifiedAND\nverifiedOR\nverifiedXOR\nverifiedXNOR\nverifiedSHL\nverifiedSHR\nverifiedSRA\nverifiedADDC\nverifiedSUBC\nverifiedCMPEQC\nverifiedCMPLTC\nverifiedCMPLEC\nverifiedANDC\nverifiedORC\nverifiedXORC\nverifiedXNORC\nverifiedSHLC\nverifiedSHRC\nverifiedSRAC\n"
     ]
    }
   ]
  }
 ],
 "metadata": {
  "kernelspec": {
   "display_name": "Python 3",
   "language": "python",
   "name": "python3"
  },
  "language_info": {
   "codemirror_mode": {
    "name": "ipython",
    "version": 3
   },
   "file_extension": ".py",
   "mimetype": "text/x-python",
   "name": "python",
   "nbconvert_exporter": "python",
   "pygments_lexer": "ipython3",
   "version": "3.8.5-final"
  }
 },
 "nbformat": 4,
 "nbformat_minor": 2
}