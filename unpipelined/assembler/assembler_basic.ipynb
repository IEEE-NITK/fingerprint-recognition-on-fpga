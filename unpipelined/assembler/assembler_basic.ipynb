{
 "cells": [
  {
   "cell_type": "code",
   "execution_count": 1,
   "metadata": {},
   "outputs": [],
   "source": [
    "import ctypes\n",
    "import json\n",
    "import sys"
   ]
  },
  {
   "cell_type": "code",
   "execution_count": 2,
   "metadata": {},
   "outputs": [],
   "source": [
    "#Custom functions\n",
    "\n",
    "def Mbox(title, text, style):\n",
    "    return ctypes.windll.user32.MessageBoxW(0, text, title, style)\n",
    "    ##  Styles:\n",
    "    ##  0 : OK\n",
    "    ##  1 : OK | Cancel\n",
    "    ##  2 : Abort | Retry | Ignore\n",
    "    ##  3 : Yes | No | Cancel\n",
    "    ##  4 : Yes | No\n",
    "    ##  5 : Retry | Cancel \n",
    "    ##  6 : Cancel | Try Again | Continue\n",
    "\n",
    "def convert_bin_n(num,n):\n",
    "    if ( num < 0 ):\n",
    "        a=bin(num & 0xffff).replace(\"0b\",\"\")\n",
    "        z=a\n",
    "    else:\n",
    "        a=bin(num).replace(\"0b\",\"\")\n",
    "        z=a.zfill(n)\n",
    "\n",
    "    return z"
   ]
  },
  {
   "cell_type": "code",
   "execution_count": 3,
   "metadata": {},
   "outputs": [],
   "source": [
    "#making required dictionaries\n",
    "\n",
    "opcode={}\n",
    "# Opening JSON file \n",
    "with open('op_codes.json') as json_file: \n",
    "    opcode = json.load(json_file)\n",
    "\n",
    "registerstring = \"r0|r1|r2|r3|r4|r5|r6|r7|r8|r9|r10|r11|r12|r13|r14|r15|r16|r17|r18|r19|r20|r21|r22|r23|r24|r25|r26|r27|r28|r29|r30|r31\"\n",
    "\n",
    "register = {}\n",
    "i = 0\n",
    "for reg in registerstring.split('|'):\n",
    "    register[reg] =convert_bin_n(i, 5)\n",
    "    i = i + 1"
   ]
  },
  {
   "cell_type": "code",
   "execution_count": 4,
   "metadata": {
    "tags": []
   },
   "outputs": [
    {
     "name": "stdout",
     "output_type": "stream",
     "text": [
      "Ensure your .s file is in assembly_file\n",
      "[['ld', 'r2', '[r1]', '0'], [''], ['add', 'r0', 'r0', 'r2'], ['subc', 'r2', 'r2', '1'], ['bne', 'r10', 'r2', '-3'], [''], ['st', 'r0', '[r3]', '-3']]\n"
     ]
    }
   ],
   "source": [
    "#reading .s file\n",
    "\n",
    "print('Ensure your .s file is in assembly_file')\n",
    "filename = input('Enter filename: ')\n",
    "\n",
    "try:\n",
    "    file_s = open('assembly_file/' + filename, 'r')\n",
    "    code = file_s.readline()\n",
    "except:\n",
    "    status = Mbox('Error!', 'No such file', style=0)\n",
    "    sys.exit()\n",
    "\n",
    "if code == '' :\n",
    "    status = Mbox('Error!', 'File is Empty', style=0)\n",
    "    sys.exit()\n",
    "\n",
    "#Obtaining the instructions\n",
    "instructions = list()\n",
    "while code != '':\n",
    "    code = code.strip()\n",
    "    temp = code.split(',')\n",
    "    \n",
    "    #cleaning the white spaces and storing relevent data\n",
    "    data = list()\n",
    "    for i in range(len(temp)):\n",
    "        temp[i] = temp[i].strip()\n",
    "        if i==0 and temp[i] != '':\n",
    "            t = temp[i].split(' ')\n",
    "            data.append(t[0])\n",
    "            data.append(t[1])\n",
    "        else:\n",
    "            data.append(temp[i])\n",
    "\n",
    "    instructions.append(data) #appending the instruction\n",
    "    code = file_s.readline()\n",
    "\n",
    "print(instructions)\n"
   ]
  },
  {
   "cell_type": "code",
   "execution_count": 5,
   "metadata": {},
   "outputs": [
    {
     "name": "stdout",
     "output_type": "stream",
     "text": [
      "your .mem file will be in memory_file\n"
     ]
    }
   ],
   "source": [
    "print('your .mem file will be in memory_file')\n",
    "filename = input('Enter filename: ')"
   ]
  },
  {
   "cell_type": "code",
   "execution_count": 6,
   "metadata": {},
   "outputs": [],
   "source": [
    "file_mem = open('memory_file/' + filename, 'a')\n",
    "\n",
    "mem_instruction = list()\n",
    "for i in range(len(instructions)):\n",
    "    ignore = ['']\n",
    "    if instructions[i] == ignore: #ignoring empty lines\n",
    "        continue\n",
    "    \n",
    "    #checking if the instruction given is correct\n",
    "    if instructions[i][0].upper() not in opcode.keys():\n",
    "        Mbox('Error!', f'Line {i+1}: No such instruction', style=0)\n",
    "        sys.exit()\n",
    "    elif '' in instructions[i]:\n",
    "        Mbox('Error!', f'Line {i+1}: Invalid syntax', style=0)\n",
    "        sys.exit()\n",
    "\n",
    "    #generating binary instructions or machine code\n",
    "    mem_data = opcode[instructions[i][0].upper()] + register[instructions[i][1]]\n",
    "\n",
    "    if instructions[i][2].startswith('['):\n",
    "        mem_data = mem_data + register[instructions[i][2][1:3]]\n",
    "    else :\n",
    "        mem_data = mem_data + register[instructions[i][2]]\n",
    "    \n",
    "    if instructions[i][3] in register.keys():\n",
    "        mem_data = mem_data + register[instructions[i][3]] + '00000000000'\n",
    "    else :\n",
    "        mem_data = mem_data + convert_bin_n(int(instructions[i][3]),16)\n",
    "\n",
    "    mem_data = mem_data + '\\n'\n",
    "    mem_instruction.append(mem_data)\n",
    "    file_mem.write(mem_data)\n",
    "\n",
    "    mem_data = mem_data + '\\n'\n",
    "    mem_instruction.append(mem_data)\n",
    "    file_mem.write(mem_data)"
   ]
  }
 ],
 "metadata": {
  "kernelspec": {
   "display_name": "Python 3",
   "language": "python",
   "name": "python3"
  },
  "language_info": {
   "codemirror_mode": {
    "name": "ipython",
    "version": 3
   },
   "file_extension": ".py",
   "mimetype": "text/x-python",
   "name": "python",
   "nbconvert_exporter": "python",
   "pygments_lexer": "ipython3",
   "version": "3.7.4"
  }
 },
 "nbformat": 4,
 "nbformat_minor": 2
}
