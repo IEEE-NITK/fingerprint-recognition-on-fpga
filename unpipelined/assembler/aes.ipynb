{
 "cells": [
  {
   "cell_type": "code",
   "execution_count": 1,
   "metadata": {},
   "outputs": [],
   "source": [
    " a = [0x01, 0x04, 0x02, 0x03, 0x01, 0x03, 0x04, 0x0A, 0x09, 0x0B, 0x07, 0x0F, 0x0F, 0x06, 0x03, 0x00]"
   ]
  },
  {
   "cell_type": "code",
   "execution_count": 2,
   "metadata": {},
   "outputs": [],
   "source": [
    "s = ''\n",
    "for i in a:\n",
    "    s += chr(i)"
   ]
  },
  {
   "cell_type": "code",
   "execution_count": 3,
   "metadata": {},
   "outputs": [],
   "source": [
    "key=s.encode()"
   ]
  },
  {
   "cell_type": "code",
   "execution_count": 4,
   "metadata": {},
   "outputs": [
    {
     "output_type": "execute_result",
     "data": {
      "text/plain": [
       "b'\\x01\\x04\\x02\\x03\\x01\\x03\\x04\\n\\t\\x0b\\x07\\x0f\\x0f\\x06\\x03\\x00'"
      ]
     },
     "metadata": {},
     "execution_count": 4
    }
   ],
   "source": [
    "key"
   ]
  },
  {
   "cell_type": "code",
   "execution_count": 5,
   "metadata": {},
   "outputs": [],
   "source": [
    "b = [0x41, 0x43, 0x42, 0x44]"
   ]
  },
  {
   "cell_type": "code",
   "execution_count": 6,
   "metadata": {},
   "outputs": [
    {
     "output_type": "execute_result",
     "data": {
      "text/plain": [
       "[65, 67, 66, 68]"
      ]
     },
     "metadata": {},
     "execution_count": 6
    }
   ],
   "source": [
    "b"
   ]
  },
  {
   "cell_type": "code",
   "execution_count": 7,
   "metadata": {},
   "outputs": [],
   "source": [
    "da = ''\n",
    "for i in b:\n",
    "    da += chr(i)"
   ]
  },
  {
   "cell_type": "code",
   "execution_count": 8,
   "metadata": {},
   "outputs": [],
   "source": [
    "data=da.encode()"
   ]
  },
  {
   "cell_type": "code",
   "execution_count": 9,
   "metadata": {},
   "outputs": [
    {
     "output_type": "execute_result",
     "data": {
      "text/plain": [
       "b'ACBD'"
      ]
     },
     "metadata": {},
     "execution_count": 9
    }
   ],
   "source": [
    "data"
   ]
  },
  {
   "cell_type": "code",
   "execution_count": 10,
   "metadata": {},
   "outputs": [],
   "source": [
    "BLOCK_SIZE = 16\n",
    "PADDING = '\\0'\n",
    "PADDING = PADDING.encode()\n",
    "pad = lambda s: s + (BLOCK_SIZE - len(s) % BLOCK_SIZE) * PADDING\n"
   ]
  },
  {
   "cell_type": "code",
   "execution_count": 11,
   "metadata": {},
   "outputs": [],
   "source": [
    "from Crypto.Cipher import AES"
   ]
  },
  {
   "cell_type": "code",
   "execution_count": 12,
   "metadata": {},
   "outputs": [],
   "source": [
    "s = s.encode('utf8')\n",
    "cipher = AES.new(s, AES.MODE_ECB)"
   ]
  },
  {
   "cell_type": "code",
   "execution_count": 13,
   "metadata": {},
   "outputs": [
    {
     "output_type": "stream",
     "name": "stdout",
     "text": [
      "b'\\x01\\x04\\x02\\x03\\x01\\x03\\x04\\n\\t\\x0b\\x07\\x0f\\x0f\\x06\\x03\\x00'\n<Crypto.Cipher._mode_ecb.EcbMode object at 0x000001E81112BFD0>\n"
     ]
    }
   ],
   "source": [
    "print(s)\n",
    "print(cipher)"
   ]
  },
  {
   "cell_type": "code",
   "execution_count": 14,
   "metadata": {},
   "outputs": [
    {
     "output_type": "stream",
     "name": "stdout",
     "text": [
      "b'ACBD\\x00\\x00\\x00\\x00\\x00\\x00\\x00\\x00\\x00\\x00\\x00\\x00'\nb':\\xcc\\x8dtph\\xb8%\\x8c(\\x96+\\xdc\\x84\\x97\\xd2'\n"
     ]
    }
   ],
   "source": [
    "print(pad(data))\n",
    "msg =cipher.encrypt(pad(data))\n",
    "print (msg)"
   ]
  },
  {
   "cell_type": "code",
   "execution_count": 15,
   "metadata": {},
   "outputs": [],
   "source": [
    "k=[]\n",
    "for i in msg:\n",
    "    k.append(hex(i))"
   ]
  },
  {
   "cell_type": "code",
   "execution_count": 16,
   "metadata": {},
   "outputs": [
    {
     "output_type": "execute_result",
     "data": {
      "text/plain": [
       "['0x3a',\n",
       " '0xcc',\n",
       " '0x8d',\n",
       " '0x74',\n",
       " '0x70',\n",
       " '0x68',\n",
       " '0xb8',\n",
       " '0x25',\n",
       " '0x8c',\n",
       " '0x28',\n",
       " '0x96',\n",
       " '0x2b',\n",
       " '0xdc',\n",
       " '0x84',\n",
       " '0x97',\n",
       " '0xd2']"
      ]
     },
     "metadata": {},
     "execution_count": 16
    }
   ],
   "source": [
    "k"
   ]
  }
 ],
 "metadata": {
  "kernelspec": {
   "display_name": "Python 3",
   "language": "python",
   "name": "python3"
  },
  "language_info": {
   "codemirror_mode": {
    "name": "ipython",
    "version": 3
   },
   "file_extension": ".py",
   "mimetype": "text/x-python",
   "name": "python",
   "nbconvert_exporter": "python",
   "pygments_lexer": "ipython3",
   "version": "3.8.5-final"
  }
 },
 "nbformat": 4,
 "nbformat_minor": 4
}