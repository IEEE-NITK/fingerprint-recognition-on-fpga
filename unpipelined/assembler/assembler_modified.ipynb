{
 "cells": [
  {
   "cell_type": "code",
   "execution_count": 2,
   "metadata": {},
   "outputs": [],
   "source": [
    "from utils import *"
   ]
  },
  {
   "cell_type": "code",
   "execution_count": 3,
   "metadata": {},
   "outputs": [],
   "source": [
    "opcode={} \n",
    "with open('op_codes.json') as json_file: \n",
    "    opcode = json.load(json_file)\n",
    "\n",
    "register = create_reg(32,5)"
   ]
  },
  {
   "cell_type": "code",
   "execution_count": 4,
   "metadata": {
    "tags": []
   },
   "outputs": [
    {
     "name": "stdout",
     "output_type": "stream",
     "text": [
      "Ensure your .s file is in assembly_file\n",
      "Enter filename: test.s\n"
     ]
    }
   ],
   "source": [
    "#reading .s file\n",
    "\n",
    "print('Ensure your .s file is in assembly_file')\n",
    "assembly_filename = input('Enter filename: ')"
   ]
  },
  {
   "cell_type": "code",
   "execution_count": 5,
   "metadata": {},
   "outputs": [
    {
     "name": "stdout",
     "output_type": "stream",
     "text": [
      "your .mem file will be in memory_file\n",
      "Enter filename: test2.mem\n"
     ]
    }
   ],
   "source": [
    "print('your .mem file will be in memory_file')\n",
    "memory_filename = input('Enter filename: ')"
   ]
  },
  {
   "cell_type": "code",
   "execution_count": 7,
   "metadata": {
    "scrolled": true
   },
   "outputs": [
    {
     "name": "stdout",
     "output_type": "stream",
     "text": [
      "Instruction 1 does the operation LD with source register/s r1\n",
      " and the constant 0 \n",
      " The output is stored in the destination register r2 .\n",
      "\n",
      "Instruction 3 does the operation ADD with source register/s r0\n",
      " and r2 and the output is stored in the destination register r0 .\n",
      "Instruction 4 does the operation SUBC with source register/s r2\n",
      " and the constant 1 \n",
      " The output is stored in the destination register r2 .\n",
      "\n",
      "Instruction 5 does the operation BNE with source register/s r2\n",
      " and the constant -3 \n",
      " The output is stored in the destination register r10 .\n",
      "\n",
      "Instruction 7 does the operation ST with source register/s r3\n",
      " and the constant -3 \n",
      " The output is stored in the destination register r0 .\n",
      "\n",
      "Assembled Succesfully.\n"
     ]
    }
   ],
   "source": [
    "if(assemble(assembly_filename, memory_filename, opcode, register)==1):\n",
    "    print(\"Assembled Succesfully.\")\n",
    "else:\n",
    "    print(\"Assembly Interrupted/Failed.\")"
   ]
  }
 ],
 "metadata": {
  "kernelspec": {
   "display_name": "Python 3",
   "language": "python",
   "name": "python3"
  },
  "language_info": {
   "codemirror_mode": {
    "name": "ipython",
    "version": 3
   },
   "file_extension": ".py",
   "mimetype": "text/x-python",
   "name": "python",
   "nbconvert_exporter": "python",
   "pygments_lexer": "ipython3",
   "version": "3.7.4"
  }
 },
 "nbformat": 4,
 "nbformat_minor": 2
}
