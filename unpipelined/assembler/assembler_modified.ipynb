{
 "cells": [
  {
   "cell_type": "markdown",
   "metadata": {},
   "source": [
    "# Importing File with Custom Functions"
   ]
  },
  {
   "cell_type": "code",
   "execution_count": 1,
   "metadata": {},
   "outputs": [],
   "source": [
    "from utils import *"
   ]
  },
  {
   "cell_type": "markdown",
   "metadata": {},
   "source": [
    "# Creating Dictionaries to Parse Op-codes and Registers"
   ]
  },
  {
   "cell_type": "code",
   "execution_count": 2,
   "metadata": {},
   "outputs": [],
   "source": [
    "opcode={} \n",
    "with open('op_codes.json') as json_file: \n",
    "    opcode = json.load(json_file)\n",
    "\n",
    "register = create_reg(32,5)"
   ]
  },
  {
   "cell_type": "markdown",
   "metadata": {},
   "source": [
    "# Taking user input for assembly file name"
   ]
  },
  {
   "cell_type": "code",
   "execution_count": 3,
   "metadata": {
    "tags": []
   },
   "outputs": [
    {
     "output_type": "stream",
     "name": "stdout",
     "text": [
      "Ensure your .s file is in assembly_file\n"
     ]
    }
   ],
   "source": [
    "print('Ensure your .s file is in assembly_file')\n",
    "assembly_filename = input('Enter filename: ')"
   ]
  },
  {
   "cell_type": "markdown",
   "metadata": {},
   "source": [
    "# Taking user input for memory file name"
   ]
  },
  {
   "cell_type": "code",
   "execution_count": 4,
   "metadata": {},
   "outputs": [
    {
     "output_type": "stream",
     "name": "stdout",
     "text": [
      "Your .mem file will be in memory_file\n"
     ]
    }
   ],
   "source": [
    "print('Your .mem file will be in memory_file')\n",
    "memory_filename = input('Enter filename: ')"
   ]
  },
  {
   "cell_type": "markdown",
   "metadata": {},
   "source": [
    "# Assembling"
   ]
  },
  {
   "cell_type": "code",
   "execution_count": 5,
   "metadata": {
    "scrolled": true
   },
   "outputs": [
    {
     "output_type": "stream",
     "name": "stdout",
     "text": [
      "Instruction 1 does the operation LD with source register/s r1\n and the constant 0 \n The output is stored in the destination register r2 .\n\nInstruction 2 does the operation ADD with source register/s r0\n and r2 and the output is stored in the destination register r0 .\nInstruction 3 does the operation SUBC with source register/s r2\n and the constant 1 \n The output is stored in the destination register r2 .\n\nInstruction 4 does the operation BNE with source register/s r2\n and the constant -3 \n The output is stored in the destination register r10 .\n\nInstruction 5 does the operation ST with source register/s r3\n and the constant -3 \n The output is stored in the destination register r0 .\n\nAssembled Succesfully.\n"
     ]
    }
   ],
   "source": [
    "if(assemble(assembly_filename, memory_filename, opcode, register)==1):\n",
    "    print(\"Assembled Succesfully.\")\n",
    "else:\n",
    "    print(\"Assembly Interrupted/Failed.\")"
   ]
  },
  {
   "cell_type": "code",
   "execution_count": null,
   "metadata": {},
   "outputs": [],
   "source": []
  }
 ],
 "metadata": {
  "kernelspec": {
   "display_name": "Python 3",
   "language": "python",
   "name": "python3"
  },
  "language_info": {
   "codemirror_mode": {
    "name": "ipython",
    "version": 3
   },
   "file_extension": ".py",
   "mimetype": "text/x-python",
   "name": "python",
   "nbconvert_exporter": "python",
   "pygments_lexer": "ipython3",
   "version": "3.8.5-final"
  }
 },
 "nbformat": 4,
 "nbformat_minor": 2
}